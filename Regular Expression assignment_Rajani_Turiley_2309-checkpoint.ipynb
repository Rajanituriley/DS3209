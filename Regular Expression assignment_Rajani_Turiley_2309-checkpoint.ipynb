{
 "cells": [
  {
   "cell_type": "markdown",
   "id": "4f968fd9",
   "metadata": {},
   "source": [
    "Regular Expression assignment\n"
   ]
  },
  {
   "cell_type": "code",
   "execution_count": 1,
   "id": "fc022ece",
   "metadata": {},
   "outputs": [],
   "source": [
    "import re"
   ]
  },
  {
   "cell_type": "code",
   "execution_count": 4,
   "id": "a9669bd4",
   "metadata": {},
   "outputs": [
    {
     "name": "stdout",
     "output_type": "stream",
     "text": [
      "Python Exercises: PHP exercises:\n"
     ]
    }
   ],
   "source": [
    "#Q1 #Write a Python program to replace all occurrences of a space, comma, or dot with a colon.\n",
    "SampleText ='Python Exercises, PHP exercises.'\n",
    "print(re.sub(\"[,.]\", \":\",SampleText))\n",
    "\n"
   ]
  },
  {
   "cell_type": "code",
   "execution_count": 5,
   "id": "eccbff2e",
   "metadata": {},
   "outputs": [
    {
     "name": "stdout",
     "output_type": "stream",
     "text": [
      "['ay', 'and', 'accelerate', 'areer', 'ertificate', 'es', 'experts', 'aboration', 'anies', 'and', 'ersity']\n"
     ]
    }
   ],
   "source": [
    "#Q2## Write a Python program to find all words starting with 'a' or 'e' in a given string.\n",
    "# given text \n",
    "Text = \"Join today and accelerate your career with online certificate courses from industry experts in collaboration with world's top companies and university\"\n",
    "# find all words starting with 'a' or 'e'\n",
    "findtext = re.findall(\"[ae]\\w+\", Text)\n",
    "# Print ae words\n",
    "\n",
    "print(findtext)"
   ]
  },
  {
   "cell_type": "code",
   "execution_count": 30,
   "id": "2aef3211",
   "metadata": {},
   "outputs": [
    {
     "name": "stdout",
     "output_type": "stream",
     "text": [
      "<class 're.Pattern'>\n",
      "['Ritu', 'both']\n"
     ]
    }
   ],
   "source": [
    "#Q3 ##Create a function in python to find all words that are at least 4 characters long in a string. The use of the re.compile() method is mandatory.\n",
    "\n",
    "#given the string\n",
    "str1 = \"Rajani and Ritu both are secured forth, fifth,2nd,253,123 ranked\"\n",
    "# Find the 4 char long string by pattern mentioned\n",
    "str_pattern = r\"\\b\\w{4}\\b\"\n",
    "# coompile the str with pattern\n",
    "regex_pattern = re.compile(str_pattern)\n",
    " # print the complie pattern\n",
    "print (type(regex_pattern))\n",
    "\n",
    "# find  matched pattern\n",
    "result = regex_pattern.findall(str1)\n",
    "# Print the result \n",
    "print(result)\n"
   ]
  },
  {
   "cell_type": "code",
   "execution_count": 31,
   "id": "1e15c526",
   "metadata": {},
   "outputs": [
    {
     "name": "stdout",
     "output_type": "stream",
     "text": [
      "<class 're.Pattern'>\n",
      "['and', 'Ritu', 'both', 'are', 'forth', 'fifth', '2nd', '253', '123']\n"
     ]
    }
   ],
   "source": [
    "# Q4#$ Create a function in python to find all three, four, and five character words in a string. The use of the re.compile() method is mandatory.\n",
    "\n",
    "#given the string\n",
    "str1 = \"Rajani and Ritu both are secured forth, fifth,2nd,253,123 ranked\"\n",
    "\n",
    "# Find the 3,4 and 5 char long string by pattern mentioned\n",
    "str_pattern = r\"\\b\\w{3,5}\\b\"\n",
    "\n",
    "# coompile the str with pattern\n",
    "regex_pattern = re.compile(str_pattern)\n",
    " # print the complie pattern type\n",
    "print (type(regex_pattern))\n",
    "\n",
    "# find all the matches pattern\n",
    "result = regex_pattern.findall(str1)\n",
    "# Print the 3,4 5 long string by result \n",
    "print(result)"
   ]
  },
  {
   "cell_type": "code",
   "execution_count": 64,
   "id": "bc195466",
   "metadata": {},
   "outputs": [
    {
     "name": "stdout",
     "output_type": "stream",
     "text": [
      "example .com\n",
      "hr@fliprobo .com\n",
      "github .com\n",
      "Hello Data Science World\n",
      "Data Scientist\n"
     ]
    }
   ],
   "source": [
    "#Q5 #Create a function in Python to remove the parenthesis in a list of strings. The use of the re.compile() method is mandatory.\n",
    "\n",
    "# put it in the string\n",
    "mystr =[\"example (.com)\", \"hr@fliprobo (.com)\", \"github (.com)\", \"Hello (Data Science World)\", \"Data (Scientist)\"]\n",
    "for myster in mystr:\n",
    "     print(re.sub(r'\\(|\\)', \"\",myster))"
   ]
  },
  {
   "cell_type": "code",
   "execution_count": 6,
   "id": "42f045a7",
   "metadata": {},
   "outputs": [
    {
     "name": "stdout",
     "output_type": "stream",
     "text": [
      "re.compile('example .com')\n",
      "re.compile('hr@fliprobo .com')\n",
      "re.compile('github .com')\n",
      "re.compile('Hello Data Science World')\n",
      "re.compile('Data Scientist')\n",
      "['Data Scientist']\n"
     ]
    }
   ],
   "source": [
    "# Define the string\n",
    "import re\n",
    "# NOTE :: NOT understanding how to use compile method here . Please let me know by step by step\n",
    "mystr =[\"example (.com)\", \"hr@fliprobo (.com)\", \"github (.com)\", \"Hello (Data Science World)\", \"Data (Scientist)\"]\n",
    "for myster in mystr:\n",
    "    string_pattern =(re.sub(r'\\(|\\)', \"\",myster))\n",
    "# compile string pattern to re.Pattern object\n",
    "    regex_pattern = re.compile(string_pattern)\n",
    "\n",
    "# print the type of compiled pattern\n",
    "    print(regex_pattern)\n",
    "    \n",
    "# find all pattern\n",
    "#result = re.findall(string_pattern)\n",
    "result = regex_pattern.findall(string_pattern)\n",
    "print(result)\n",
    "\n",
    "\n"
   ]
  },
  {
   "cell_type": "code",
   "execution_count": 3,
   "id": "58f99d40",
   "metadata": {},
   "outputs": [
    {
     "name": "stdout",
     "output_type": "stream",
     "text": [
      "\"example .com\", \"hr@fliprobo .com\", \"github .com\", \"Hello Data Science World\", \"Data Scientist\"\n",
      "\n",
      "\n",
      "\n",
      "- Hello my name is Data Science and my email address is xyz@domain.com and alternate email address is xyz.abc@sdomain.domain.com. \n",
      "\n",
      "Please contact us at hr@fliprobo.com for further information. \n",
      "\n",
      "\n",
      "\n",
      "Sample Text: Ron was born on 12-09-1992 and he was admitted to school 15-12-1999.\n",
      "\n",
      "\n",
      "\n",
      "\n",
      "\n",
      "\n",
      "\n"
     ]
    }
   ],
   "source": [
    "#Q6 ##Write a python program to remove the parenthesis area from the text stored in the text file using Regular Expression.\n",
    "import re\n",
    "with open(\"C:/Users/Admin/Desktop/Regexp.txt\") as file:\n",
    "    for line in file :\n",
    "        urls= re.findall('https?://(?:[-\\w.]|(?:%[\\da-zA-Z0-9]{2}))+',line)\n",
    "        text = re.sub(r\"\\(|\\)\",\"\",line)\n",
    "            #r'\\([^()]*\\)',\"\", line)\n",
    "        print(text)"
   ]
  },
  {
   "cell_type": "code",
   "execution_count": 4,
   "id": "6cc2e469",
   "metadata": {},
   "outputs": [
    {
     "name": "stdout",
     "output_type": "stream",
     "text": [
      "[]\n",
      "[]\n",
      "['xyz@domain.com', 'xyz.abc@sdomain.domain.com']\n",
      "['hr@fliprobo.com']\n",
      "[]\n",
      "[]\n",
      "[]\n",
      "[]\n",
      "[]\n"
     ]
    }
   ],
   "source": [
    "#Extract the email address \n",
    "with open(\"C:/Users/Admin/Desktop/Regexp.txt\") as file:\n",
    "    for line in file :\n",
    "        pattern= '[a-zA-Z0-9._+%-]+@[a-zA-Z0-9.-]+\\.[a-zA-Z]{2,}'\n",
    "        urls = re.findall(pattern,line)\n",
    "        ##text = re.sub(\"[()]\",\"\",urls)\n",
    "        print(urls)"
   ]
  },
  {
   "cell_type": "code",
   "execution_count": 67,
   "id": "a7d3debf",
   "metadata": {},
   "outputs": [
    {
     "name": "stdout",
     "output_type": "stream",
     "text": [
      "\"example\", \"hr@fliprobo\", \"github\", \"Hello\", \"Data\"\n",
      "\n",
      "\n",
      "\n",
      "- Hello my name is Data Science and my email address is xyz@domain.com and alternate email address is xyz.abc@sdomain.domain.com. \n",
      "\n",
      "Please contact us at hr@fliprobo.com for further information. \n",
      "\n",
      "\n",
      "\n",
      "Sample Text: Ron was born on 12-09-1992 and he was admitted to school 15-12-1999.\n",
      "\n",
      "\n",
      "\n",
      "\n",
      "\n",
      "\n",
      "\n"
     ]
    }
   ],
   "source": [
    "#Q6 :- Write a python program to remove the parenthesis area from the text stored in the text file using Regular Expression.\n",
    "with open(\"C:/Users/Admin/Desktop/Regexp.txt\") as file:\n",
    "    for line in file :\n",
    "        #print (re.sub(\"r’\\([^)]*\\)’\",\"\",line))\n",
    "        print(re.sub(r\" ?\\([^)]+\\)\", \"\",line))\n"
   ]
  },
  {
   "cell_type": "code",
   "execution_count": 68,
   "id": "04f66802",
   "metadata": {},
   "outputs": [
    {
     "name": "stdout",
     "output_type": "stream",
     "text": [
      "['Importance', 'Of', 'Regular', 'Expressions', 'In', 'Python']\n"
     ]
    }
   ],
   "source": [
    "#Q7 :- Write a regular expression in Python to split a string into uppercase letters.\n",
    "Text = \"ImportanceOfRegularExpressionsInPython\"\n",
    "\n",
    "x= re.findall('[A-Z][^A-Z]*',Text)\n",
    "print(x)\n"
   ]
  },
  {
   "cell_type": "code",
   "execution_count": 157,
   "id": "b3d75094",
   "metadata": {},
   "outputs": [],
   "source": [
    "#Q8:Create a function in python to insert spaces between words starting with numbers\n",
    "Text = \"RegularExpression1IsAn2ImportantTopic3InPython\"\n",
    "\n",
    "def space_fun(Text):\n",
    "    return re.sub( '(\\d+(\\.\\d+)?)', r' \\1', Text)\n",
    "\n"
   ]
  },
  {
   "cell_type": "code",
   "execution_count": 158,
   "id": "266e8416",
   "metadata": {},
   "outputs": [
    {
     "name": "stdout",
     "output_type": "stream",
     "text": [
      "RegularExpression 1IsAn 2ImportantTopic 3InPython\n"
     ]
    }
   ],
   "source": [
    "print(space_fun(Text))"
   ]
  },
  {
   "cell_type": "code",
   "execution_count": 206,
   "id": "a9f88da4",
   "metadata": {},
   "outputs": [],
   "source": [
    "#Q9 ## Create a function in python to insert spaces between words starting with capital letters or with numbers.\n",
    "Text= \"RegularExpression1IsAn2ImportantTopic3InPython\"\n",
    "\n",
    "def space_fun(Text):\n",
    "    return re.sub( r'(\\d+)([A-Za-z])' ,r' \\1\\2', Text)"
   ]
  },
  {
   "cell_type": "code",
   "execution_count": 207,
   "id": "af97b3e0",
   "metadata": {},
   "outputs": [
    {
     "name": "stdout",
     "output_type": "stream",
     "text": [
      "RegularExpression 1IsAn 2ImportantTopic 3InPython\n"
     ]
    }
   ],
   "source": [
    "print(space_fun(Text))"
   ]
  },
  {
   "cell_type": "code",
   "execution_count": 191,
   "id": "08219364",
   "metadata": {},
   "outputs": [
    {
     "name": "stdout",
     "output_type": "stream",
     "text": [
      "[]\n",
      "[]\n",
      "['xyz@domain.com', 'xyz.abc@sdomain.domain.com']\n",
      "['hr@fliprobo.com']\n",
      "[]\n",
      "[]\n",
      "[]\n",
      "[]\n",
      "[]\n"
     ]
    }
   ],
   "source": [
    "#Q10- Write a python program to extract email address from the text stored in the text file using Regular Expression.\n",
    "with open(\"C:/Users/Admin/Desktop/Regexp.txt\") as file:\n",
    "    for line in file :\n",
    "        pattern= '[a-zA-Z0-9._+%-]+@[a-zA-Z0-9.-]+\\.[a-zA-Z]{2,}'\n",
    "        urls = re.findall(pattern,line)\n",
    "        print(urls)"
   ]
  },
  {
   "cell_type": "code",
   "execution_count": 209,
   "id": "3309f907",
   "metadata": {},
   "outputs": [
    {
     "name": "stdout",
     "output_type": "stream",
     "text": [
      "String does not match the pattern\n"
     ]
    }
   ],
   "source": [
    "#Q11. : Write a Python program to match a string that contains only upper and lowercase letters, numbers, and underscores.\n",
    "string = \"Hi_123_test\"\n",
    "def match_string(string):\n",
    "      pattern = r'^[a-zA-Z0-9_]+$'\n",
    "if re.match(pattern, string):\n",
    "     print(\"String matches the pattern\")\n",
    "else:\n",
    "     print(\"String does not match the pattern\")\n",
    "        \n",
    "    \n",
    "        \n"
   ]
  },
  {
   "cell_type": "code",
   "execution_count": 213,
   "id": "30c3215b",
   "metadata": {},
   "outputs": [
    {
     "name": "stdout",
     "output_type": "stream",
     "text": [
      "206.200.30.23\n"
     ]
    }
   ],
   "source": [
    "#Q13 Write a Python program to remove leading zeros from an IP address\n",
    "IP= \"206.200.30.023\"\n",
    "\n",
    "str3 =re.sub('\\.[0]','.',IP)\n",
    "print(str3)"
   ]
  },
  {
   "cell_type": "code",
   "execution_count": 220,
   "id": "aeb81b15",
   "metadata": {},
   "outputs": [
    {
     "name": "stdout",
     "output_type": "stream",
     "text": [
      "['August 15th 1947']\n"
     ]
    }
   ],
   "source": [
    "#Q14 ##Write a regular expression in python to match a date string in the form of Month name followed by day number and year stored in a text file.\n",
    "\n",
    "Text = \"On August 15th 1947 that India was declared independent from British colonialism, and the reins of control were handed over to the leaders of the Country\"\n",
    " # write the pattern\n",
    "pattern = r'\\b([A-Za-z]+ \\d{1,2}(?:th|rd|nd)? \\d{4})\\b'\n",
    "    # Put it insring\n",
    "string = re.findall(pattern, Text)\n",
    "print(string)"
   ]
  },
  {
   "cell_type": "code",
   "execution_count": 235,
   "id": "0cbb6df5",
   "metadata": {},
   "outputs": [
    {
     "name": "stdout",
     "output_type": "stream",
     "text": [
      "pattern is match\n",
      "pattern is match\n",
      "pattern does not match\n"
     ]
    }
   ],
   "source": [
    "#-Q15 Write a Python program to search some literals strings in a string. \n",
    "#Sample text : 'The quick brown fox jumps over the lazy dog.'\n",
    "#Searched words : 'fox', 'dog', 'horse'\n",
    "\n",
    "pattern = ['fox', 'dog', 'horse']\n",
    "text = 'The quick brown fox jumps over the lazy dog.'\n",
    "for match in pattern:\n",
    "    \n",
    "    if re.search( match,  text):\n",
    "        print('pattern is match')\n",
    "    else:\n",
    "        print('pattern does not match')"
   ]
  },
  {
   "cell_type": "code",
   "execution_count": 244,
   "id": "b149e441",
   "metadata": {},
   "outputs": [
    {
     "name": "stdout",
     "output_type": "stream",
     "text": [
      "start the match on 16\n",
      "end the match on  19\n"
     ]
    }
   ],
   "source": [
    "#Q 16## Write a Python program to search a literals string in a string and also find the location within the original string where the pattern occurs\n",
    "#Sample text : 'The quick brown fox jumps over the lazy dog.'\n",
    "#Searched words : 'fox'\n",
    "\n",
    "string = \"The quick brown fox jumps over the lazy dog.\"\n",
    "pattern = 'fox'\n",
    "match = re.search(pattern, string)\n",
    "if match:\n",
    "        print (\"start the match on\",match.start())\n",
    "        print (\"end the match on \", match.end())\n",
    "else:\n",
    "        print (\"does not match\")\n",
    "\n",
    "    \n"
   ]
  },
  {
   "cell_type": "code",
   "execution_count": 15,
   "id": "192dd1c7",
   "metadata": {},
   "outputs": [
    {
     "name": "stdout",
     "output_type": "stream",
     "text": [
      "exercises\n",
      "exercises\n",
      "exercises\n"
     ]
    }
   ],
   "source": [
    "#Q17Write a Python program to find the substrings within a string\n",
    "#1st method\n",
    "import re\n",
    "text = 'Python exercises, PHP exercises, C# exercises'\n",
    "pattern = \"exercises\"\n",
    "for match in re.findall(pattern,text):\n",
    "     print(match)\n"
   ]
  },
  {
   "cell_type": "code",
   "execution_count": 14,
   "id": "18a4daf0",
   "metadata": {},
   "outputs": [
    {
     "name": "stdout",
     "output_type": "stream",
     "text": [
      "exercises\n"
     ]
    }
   ],
   "source": [
    "# 2nd Method\n",
    "text = 'Python exercises, PHP exercises, C# exercises'\n",
    "print (text [7:16])"
   ]
  },
  {
   "cell_type": "code",
   "execution_count": 25,
   "id": "1124203b",
   "metadata": {},
   "outputs": [
    {
     "name": "stdout",
     "output_type": "stream",
     "text": [
      "position \"exercises\" at 7:16\n",
      "position \"exercises\" at 22:31\n",
      "position \"exercises\" at 36:45\n"
     ]
    }
   ],
   "source": [
    "#Q 18- Write a Python program to find the occurrence and position of the substrings within a string.\n",
    "text = 'Python exercises, PHP exercises, C# exercises'\n",
    "\n",
    "pattern = 'exercises'\n",
    "for match in re.finditer(pattern, text):\n",
    "    s = match.start()\n",
    "    e = match.end()\n",
    "    print('position \"%s\" at %d:%d' % (text[s:e], s, e))\n"
   ]
  },
  {
   "cell_type": "code",
   "execution_count": 33,
   "id": "5a5b183a",
   "metadata": {},
   "outputs": [
    {
     "name": "stdout",
     "output_type": "stream",
     "text": [
      "original date-yyy-mm-dd 2023-10-03\n",
      "updated date-dd-mm-yyyy 03-10-2023\n"
     ]
    }
   ],
   "source": [
    "#Q19 Write a Python program to convert a date of yyyy-mm-dd format to dd-mm-yyyy format.\n",
    "\n",
    "# define the function for date can be use multiple time \n",
    "def change_the_date_format(df):\n",
    "    return re.sub(r'(\\d{4})-(\\d{1,2})-(\\d{1,2})', '\\\\3-\\\\2-\\\\1',df)\n",
    "df1 =\"2023-10-03\"\n",
    "print(\"original date-yyy-mm-dd\",df1)\n",
    "print(\"updated date-dd-mm-yyyy\",change_the_date_format(df1))\n"
   ]
  },
  {
   "cell_type": "code",
   "execution_count": 38,
   "id": "d45c3e5e",
   "metadata": {},
   "outputs": [
    {
     "name": "stdout",
     "output_type": "stream",
     "text": [
      "15\n",
      "number position 10\n",
      "1947\n",
      "number position 15\n"
     ]
    }
   ],
   "source": [
    "#Q21Write a Python program to separate and print the numbers and their position of a given string.\n",
    "text = 'On August 15th 1947 that India was declared independent from British colonialism, and the reins of control were handed over to the leaders of the Country’'\n",
    "for pos in re.finditer(\"\\d+\",text):\n",
    "    print (pos.group())\n",
    "    print(\"number position\", pos.start())"
   ]
  },
  {
   "cell_type": "code",
   "execution_count": 41,
   "id": "cb8eaa54",
   "metadata": {},
   "outputs": [
    {
     "name": "stdout",
     "output_type": "stream",
     "text": [
      "['01.12', '0132.12', '2.31', '145.8', '3.01', '27.25', '0.25']\n"
     ]
    }
   ],
   "source": [
    "#Q20Create a function in python to find all decimal numbers with a precision of 1 or 2 in a string. The use of the re.compile() method is mandatory.\n",
    "string = \"01.12 0132.123 2.31875 145.8 3.01 27.25 0.25\"\n",
    "def find_decimal_numbers(string):\n",
    "  pattern = re.compile(r'\\d+\\.\\d{1,2}')\n",
    "  decimal_numbers = re.findall(pattern, string)\n",
    "  return decimal_numbers\n",
    "Decimalnumber = find_decimal_numbers(string)\n",
    "print(Decimalnumber)"
   ]
  },
  {
   "cell_type": "code",
   "execution_count": 254,
   "id": "ea70b739",
   "metadata": {},
   "outputs": [
    {
     "name": "stdout",
     "output_type": "stream",
     "text": [
      "950\n"
     ]
    }
   ],
   "source": [
    "#Q22Write a regular expression in python program to extract maximum/largest numeric value from a string.\n",
    "#Sample Text:  'My marks in each semester are: 947, 896, 926, 524, 734, 950, 642'\n",
    "#Expected Output: 950\n",
    "text = \"My marks in each semester are: 947, 896, 926, 524, 734, 950, 642\"\n",
    "num = re.findall('\\d+',text)\n",
    "# map numeric value from string to int\n",
    "num2 = map(int, num)\n",
    "print (max(num2))"
   ]
  },
  {
   "cell_type": "code",
   "execution_count": 257,
   "id": "0ffe08ca",
   "metadata": {},
   "outputs": [],
   "source": [
    "##Q23 Create a function in python to insert spaces between words starting with capital letters\n",
    "Text = \"RegularExpression1IsAn2ImportantTopic3InPython\"\n",
    "\n",
    "def space_fun(Text):\n",
    "    return re.sub( r'([A-Z]+(\\.\\d+)?)', r' \\1', Text)"
   ]
  },
  {
   "cell_type": "code",
   "execution_count": 258,
   "id": "941146e0",
   "metadata": {},
   "outputs": [
    {
     "name": "stdout",
     "output_type": "stream",
     "text": [
      " Regular Expression1 Is An2 Important Topic3 In Python\n"
     ]
    }
   ],
   "source": [
    "print(space_fun(Text))"
   ]
  },
  {
   "cell_type": "code",
   "execution_count": 260,
   "id": "547a8d80",
   "metadata": {},
   "outputs": [
    {
     "name": "stdout",
     "output_type": "stream",
     "text": [
      "['Hello', 'World']\n"
     ]
    }
   ],
   "source": [
    "##Q24  Python regex to find sequences of one upper case letter followed by lower case letters\n",
    "text= 'Hello helLo world World'\n",
    "pattern = r'\\b[A-Z][a-z]+\\b'\n",
    "\n",
    "test = re.findall(pattern,text)\n",
    "print(test)"
   ]
  },
  {
   "cell_type": "code",
   "execution_count": 261,
   "id": "6d59c533",
   "metadata": {},
   "outputs": [
    {
     "name": "stdout",
     "output_type": "stream",
     "text": [
      "enter the digit42142141wwe\n",
      "string end with alphanumeric\n"
     ]
    }
   ],
   "source": [
    "#Q26 - Write a python program using RegEx to accept string ending with alphanumeric character.\n",
    "\n",
    "def chk_string(string):\n",
    "    pattern = r\"[a-zA-Z0-9]$\"\n",
    "    match = re.search(pattern, string)\n",
    "    if match:\n",
    "        return True\n",
    "    else:\n",
    "        return False\n",
    "    \n",
    "string = input(\"enter the digit\")\n",
    "if chk_string(string):\n",
    "    print (\"string end with alphanumeric\")\n",
    "else :\n",
    "    print(\"string not end with alphanumeric\")\n",
    "    \n"
   ]
  },
  {
   "cell_type": "code",
   "execution_count": 4,
   "id": "c6d8430b",
   "metadata": {},
   "outputs": [
    {
     "name": "stdout",
     "output_type": "stream",
     "text": [
      "Hello hello world\n"
     ]
    }
   ],
   "source": [
    "#Q25 Write a Python program to remove continuous duplicate words from Sentence using Regular Expression.\n",
    "import re\n",
    "\n",
    "string1 ='Hello hello world world'\n",
    "pattern = r'\\b(\\w+)(?:\\W+\\1\\b)+'\n",
    "result = re.sub(pattern , r'\\1',string1)\n",
    "print(result)\n"
   ]
  },
  {
   "cell_type": "code",
   "execution_count": 5,
   "id": "70c62469",
   "metadata": {},
   "outputs": [
    {
     "name": "stdout",
     "output_type": "stream",
     "text": [
      "['#Doltiwal', '#xyzabc', '#Demonetization']\n"
     ]
    }
   ],
   "source": [
    "# Q27 #Write a python program using RegEx to extract the hashtags.\n",
    "Text =\"\"\"RT @kapil_kausik: #Doltiwal I mean #xyzabc is \"hurt\" by #Demonetization as the same has rendered USELESS <ed><U+00A0><U+00BD><ed><U+00B1><U+0089> \"acquired funds\" No wo\"\"\"\n",
    "\n",
    "#Define the string with find all method\n",
    "\n",
    "hashtag =re.findall( r'#\\w+',Text)\n",
    "print(hashtag)"
   ]
  },
  {
   "cell_type": "code",
   "execution_count": 13,
   "id": "cbabe913",
   "metadata": {},
   "outputs": [
    {
     "name": "stdout",
     "output_type": "stream",
     "text": [
      "@Jags123456 Bharat band on 28??<ed><ed>Those who  are protesting #demonetization  are all different party leaders\n"
     ]
    }
   ],
   "source": [
    "# Q 28 # Write a python program using RegEx to remove <U+..> like symbols.You need to come up with a general Regex expression that will cover all such symbols\n",
    "text = \"@Jags123456 Bharat band on 28??<ed><U+00A0><U+00BD><ed><U+00B8><U+0082>Those who  are protesting #demonetization  are all different party leaders\"\n",
    "# write the paatern to remove <U+..>\n",
    "pattern = r'<U\\+\\w{4}>'\n",
    "\n",
    "string = re.sub(pattern,\"\",text, flags =re.IGNORECASE)\n",
    "\n",
    "# print the updated string without <U+..>\n",
    "print(string)"
   ]
  },
  {
   "cell_type": "code",
   "execution_count": 21,
   "id": "b7471637",
   "metadata": {},
   "outputs": [
    {
     "name": "stdout",
     "output_type": "stream",
     "text": [
      "[]\n",
      "[]\n",
      "[]\n",
      "[]\n",
      "[]\n",
      "['12-09-1992', '15-12-1999']\n",
      "[]\n",
      "[]\n",
      "[]\n"
     ]
    }
   ],
   "source": [
    "#Q 29 ## Write a python program to extract dates from the text stored in the text file.##\n",
    "\n",
    "# open the file from path\n",
    "with open(\"C:/Users/Admin/Desktop/Regexp.txt\") as file:\n",
    "     \n",
    "    for line in file :\n",
    "    \n",
    "   #Define the pattern for date\n",
    "        pattern= r'\\d{2}-\\d{2}-\\d{4}'\n",
    "        # find the matching date pattern \n",
    "        datefind = re.findall(pattern, line)\n",
    "        \n",
    "        # print the date find\n",
    "        print(datefind)\n"
   ]
  },
  {
   "cell_type": "code",
   "execution_count": 262,
   "id": "2a155faf",
   "metadata": {},
   "outputs": [
    {
     "name": "stdout",
     "output_type": "stream",
     "text": [
      " following example creates  ArrayList  a capacity   elements. 4 elements   added   ArrayList   ArrayList  trimmed accordingly.\n"
     ]
    }
   ],
   "source": [
    "##Q30to remove all words from a string of length between 2 and 4.\n",
    "text = \"The following example creates an ArrayList with a capacity of 50 elements. 4 elements are then added to the ArrayList and the ArrayList is trimmed accordingly.\"\n",
    "\n",
    "# write the pattern \\W*\\b\\w{1,3}\\b\n",
    "pattern =r'\\w*\\b\\w{2,4}\\b'\n",
    " \n",
    "str= re.sub(pattern,\"\", text)\n",
    "# print the length\n",
    "print(str)"
   ]
  },
  {
   "cell_type": "code",
   "execution_count": null,
   "id": "c53694a5",
   "metadata": {},
   "outputs": [],
   "source": []
  }
 ],
 "metadata": {
  "kernelspec": {
   "display_name": "Python 3 (ipykernel)",
   "language": "python",
   "name": "python3"
  },
  "language_info": {
   "codemirror_mode": {
    "name": "ipython",
    "version": 3
   },
   "file_extension": ".py",
   "mimetype": "text/x-python",
   "name": "python",
   "nbconvert_exporter": "python",
   "pygments_lexer": "ipython3",
   "version": "3.10.9"
  }
 },
 "nbformat": 4,
 "nbformat_minor": 5
}
